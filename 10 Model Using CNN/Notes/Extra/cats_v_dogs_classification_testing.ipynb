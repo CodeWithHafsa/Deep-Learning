{
  "cells": [
    {
      "cell_type": "markdown",
      "metadata": {},
      "source": [
        "Above model is same as defined in cat_dog_classifier file"
      ]
    },
    {
      "cell_type": "markdown",
      "metadata": {},
      "source": [
        "----"
      ]
    },
    {
      "cell_type": "markdown",
      "metadata": {
        "id": "IBZYnt4ltrj4"
      },
      "source": [
        "Test for cat image, dog image and combined image"
      ]
    },
    {
      "cell_type": "code",
      "execution_count": 95,
      "metadata": {
        "colab": {
          "base_uri": "https://localhost:8080/"
        },
        "id": "uk00UFq6pZIi",
        "outputId": "c7a5756d-f08c-480e-9287-c4a580265480"
      },
      "outputs": [
        {
          "name": "stdout",
          "output_type": "stream",
          "text": [
            "\u001b[1m1/1\u001b[0m \u001b[32m━━━━━━━━━━━━━━━━━━━━\u001b[0m\u001b[37m\u001b[0m \u001b[1m0s\u001b[0m 16ms/step\n",
            "Prediction for cat image: [[0.]]\n"
          ]
        }
      ],
      "source": [
        "test_img_cat = cv2.imread('/content/Images for test/cat_image.jpeg')  # Replace with your cat image path\n",
        "test_img_cat = cv2.resize(test_img_cat, (256, 256))\n",
        "test_input_cat = test_img_cat.reshape((1, 256, 256, 3))\n",
        "prediction_cat = model.predict(test_input_cat)\n",
        "print(\"Prediction for cat image:\", prediction_cat)"
      ]
    },
    {
      "cell_type": "code",
      "execution_count": 96,
      "metadata": {
        "colab": {
          "base_uri": "https://localhost:8080/"
        },
        "id": "qc5x1AnvtvcY",
        "outputId": "a532db3e-77c1-4d70-81b1-bd8f8b908bfa"
      },
      "outputs": [
        {
          "name": "stdout",
          "output_type": "stream",
          "text": [
            "\u001b[1m1/1\u001b[0m \u001b[32m━━━━━━━━━━━━━━━━━━━━\u001b[0m\u001b[37m\u001b[0m \u001b[1m0s\u001b[0m 16ms/step\n",
            "Prediction for dog image: [[0.]]\n"
          ]
        }
      ],
      "source": [
        "test_img_dog = cv2.imread('/content/Images for test/dog_image.png')  # Path to the dog image\n",
        "test_img_dog = cv2.resize(test_img_dog, (256, 256))\n",
        "test_input_dog = test_img_dog.reshape((1, 256, 256, 3))\n",
        "prediction_dog = model.predict(test_input_dog)\n",
        "print(\"Prediction for dog image:\", prediction_dog)"
      ]
    },
    {
      "cell_type": "code",
      "execution_count": 97,
      "metadata": {
        "colab": {
          "base_uri": "https://localhost:8080/"
        },
        "id": "x19fdl7humE-",
        "outputId": "81093f60-5cb6-4479-d8bd-ad022843b91e"
      },
      "outputs": [
        {
          "name": "stdout",
          "output_type": "stream",
          "text": [
            "\u001b[1m1/1\u001b[0m \u001b[32m━━━━━━━━━━━━━━━━━━━━\u001b[0m\u001b[37m\u001b[0m \u001b[1m0s\u001b[0m 19ms/step\n",
            "Prediction for combined image: [[0.]]\n"
          ]
        }
      ],
      "source": [
        "test_img_combined = cv2.imread('/content/Images for test/mixed_image.webp')  # Path to the combined image\n",
        "test_img_combined = cv2.resize(test_img_combined, (256, 256))\n",
        "test_input_combined = test_img_combined.reshape((1, 256, 256, 3))\n",
        "prediction_combined = model.predict(test_input_combined)\n",
        "print(\"Prediction for combined image:\", prediction_combined)"
      ]
    },
    {
      "cell_type": "markdown",
      "metadata": {},
      "source": [
        "Note: \n",
        "* For Cat image model should show 0\n",
        "* For Dog image model should show 1\n",
        "* For mixed image -  sometime it show 0 and sometime 1 \n",
        "\n",
        "If the size of the image is not same - we use data augmentation to resolve this issue"
      ]
    }
  ],
  "metadata": {
    "accelerator": "GPU",
    "colab": {
      "provenance": []
    },
    "kernelspec": {
      "display_name": "Python 3",
      "name": "python3"
    },
    "language_info": {
      "name": "python"
    }
  },
  "nbformat": 4,
  "nbformat_minor": 0
}
