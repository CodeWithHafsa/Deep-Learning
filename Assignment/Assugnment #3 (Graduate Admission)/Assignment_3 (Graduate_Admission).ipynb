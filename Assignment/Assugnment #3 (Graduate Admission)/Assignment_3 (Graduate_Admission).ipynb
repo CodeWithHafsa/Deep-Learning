{
  "nbformat": 4,
  "nbformat_minor": 0,
  "metadata": {
    "colab": {
      "provenance": []
    },
    "kernelspec": {
      "name": "python3",
      "display_name": "Python 3"
    },
    "language_info": {
      "name": "python"
    }
  },
  "cells": [
    {
      "cell_type": "code",
      "execution_count": 44,
      "metadata": {
        "colab": {
          "base_uri": "https://localhost:8080/",
          "height": 73
        },
        "id": "PkB3MnOWzVMw",
        "outputId": "5cc984a6-26ee-4ea3-eab5-f0631e1fcbe6"
      },
      "outputs": [
        {
          "output_type": "display_data",
          "data": {
            "text/plain": [
              "<IPython.core.display.HTML object>"
            ],
            "text/html": [
              "\n",
              "     <input type=\"file\" id=\"files-67b55277-18b2-490e-acdb-2c04e15ec32d\" name=\"files[]\" multiple disabled\n",
              "        style=\"border:none\" />\n",
              "     <output id=\"result-67b55277-18b2-490e-acdb-2c04e15ec32d\">\n",
              "      Upload widget is only available when the cell has been executed in the\n",
              "      current browser session. Please rerun this cell to enable.\n",
              "      </output>\n",
              "      <script>// Copyright 2017 Google LLC\n",
              "//\n",
              "// Licensed under the Apache License, Version 2.0 (the \"License\");\n",
              "// you may not use this file except in compliance with the License.\n",
              "// You may obtain a copy of the License at\n",
              "//\n",
              "//      http://www.apache.org/licenses/LICENSE-2.0\n",
              "//\n",
              "// Unless required by applicable law or agreed to in writing, software\n",
              "// distributed under the License is distributed on an \"AS IS\" BASIS,\n",
              "// WITHOUT WARRANTIES OR CONDITIONS OF ANY KIND, either express or implied.\n",
              "// See the License for the specific language governing permissions and\n",
              "// limitations under the License.\n",
              "\n",
              "/**\n",
              " * @fileoverview Helpers for google.colab Python module.\n",
              " */\n",
              "(function(scope) {\n",
              "function span(text, styleAttributes = {}) {\n",
              "  const element = document.createElement('span');\n",
              "  element.textContent = text;\n",
              "  for (const key of Object.keys(styleAttributes)) {\n",
              "    element.style[key] = styleAttributes[key];\n",
              "  }\n",
              "  return element;\n",
              "}\n",
              "\n",
              "// Max number of bytes which will be uploaded at a time.\n",
              "const MAX_PAYLOAD_SIZE = 100 * 1024;\n",
              "\n",
              "function _uploadFiles(inputId, outputId) {\n",
              "  const steps = uploadFilesStep(inputId, outputId);\n",
              "  const outputElement = document.getElementById(outputId);\n",
              "  // Cache steps on the outputElement to make it available for the next call\n",
              "  // to uploadFilesContinue from Python.\n",
              "  outputElement.steps = steps;\n",
              "\n",
              "  return _uploadFilesContinue(outputId);\n",
              "}\n",
              "\n",
              "// This is roughly an async generator (not supported in the browser yet),\n",
              "// where there are multiple asynchronous steps and the Python side is going\n",
              "// to poll for completion of each step.\n",
              "// This uses a Promise to block the python side on completion of each step,\n",
              "// then passes the result of the previous step as the input to the next step.\n",
              "function _uploadFilesContinue(outputId) {\n",
              "  const outputElement = document.getElementById(outputId);\n",
              "  const steps = outputElement.steps;\n",
              "\n",
              "  const next = steps.next(outputElement.lastPromiseValue);\n",
              "  return Promise.resolve(next.value.promise).then((value) => {\n",
              "    // Cache the last promise value to make it available to the next\n",
              "    // step of the generator.\n",
              "    outputElement.lastPromiseValue = value;\n",
              "    return next.value.response;\n",
              "  });\n",
              "}\n",
              "\n",
              "/**\n",
              " * Generator function which is called between each async step of the upload\n",
              " * process.\n",
              " * @param {string} inputId Element ID of the input file picker element.\n",
              " * @param {string} outputId Element ID of the output display.\n",
              " * @return {!Iterable<!Object>} Iterable of next steps.\n",
              " */\n",
              "function* uploadFilesStep(inputId, outputId) {\n",
              "  const inputElement = document.getElementById(inputId);\n",
              "  inputElement.disabled = false;\n",
              "\n",
              "  const outputElement = document.getElementById(outputId);\n",
              "  outputElement.innerHTML = '';\n",
              "\n",
              "  const pickedPromise = new Promise((resolve) => {\n",
              "    inputElement.addEventListener('change', (e) => {\n",
              "      resolve(e.target.files);\n",
              "    });\n",
              "  });\n",
              "\n",
              "  const cancel = document.createElement('button');\n",
              "  inputElement.parentElement.appendChild(cancel);\n",
              "  cancel.textContent = 'Cancel upload';\n",
              "  const cancelPromise = new Promise((resolve) => {\n",
              "    cancel.onclick = () => {\n",
              "      resolve(null);\n",
              "    };\n",
              "  });\n",
              "\n",
              "  // Wait for the user to pick the files.\n",
              "  const files = yield {\n",
              "    promise: Promise.race([pickedPromise, cancelPromise]),\n",
              "    response: {\n",
              "      action: 'starting',\n",
              "    }\n",
              "  };\n",
              "\n",
              "  cancel.remove();\n",
              "\n",
              "  // Disable the input element since further picks are not allowed.\n",
              "  inputElement.disabled = true;\n",
              "\n",
              "  if (!files) {\n",
              "    return {\n",
              "      response: {\n",
              "        action: 'complete',\n",
              "      }\n",
              "    };\n",
              "  }\n",
              "\n",
              "  for (const file of files) {\n",
              "    const li = document.createElement('li');\n",
              "    li.append(span(file.name, {fontWeight: 'bold'}));\n",
              "    li.append(span(\n",
              "        `(${file.type || 'n/a'}) - ${file.size} bytes, ` +\n",
              "        `last modified: ${\n",
              "            file.lastModifiedDate ? file.lastModifiedDate.toLocaleDateString() :\n",
              "                                    'n/a'} - `));\n",
              "    const percent = span('0% done');\n",
              "    li.appendChild(percent);\n",
              "\n",
              "    outputElement.appendChild(li);\n",
              "\n",
              "    const fileDataPromise = new Promise((resolve) => {\n",
              "      const reader = new FileReader();\n",
              "      reader.onload = (e) => {\n",
              "        resolve(e.target.result);\n",
              "      };\n",
              "      reader.readAsArrayBuffer(file);\n",
              "    });\n",
              "    // Wait for the data to be ready.\n",
              "    let fileData = yield {\n",
              "      promise: fileDataPromise,\n",
              "      response: {\n",
              "        action: 'continue',\n",
              "      }\n",
              "    };\n",
              "\n",
              "    // Use a chunked sending to avoid message size limits. See b/62115660.\n",
              "    let position = 0;\n",
              "    do {\n",
              "      const length = Math.min(fileData.byteLength - position, MAX_PAYLOAD_SIZE);\n",
              "      const chunk = new Uint8Array(fileData, position, length);\n",
              "      position += length;\n",
              "\n",
              "      const base64 = btoa(String.fromCharCode.apply(null, chunk));\n",
              "      yield {\n",
              "        response: {\n",
              "          action: 'append',\n",
              "          file: file.name,\n",
              "          data: base64,\n",
              "        },\n",
              "      };\n",
              "\n",
              "      let percentDone = fileData.byteLength === 0 ?\n",
              "          100 :\n",
              "          Math.round((position / fileData.byteLength) * 100);\n",
              "      percent.textContent = `${percentDone}% done`;\n",
              "\n",
              "    } while (position < fileData.byteLength);\n",
              "  }\n",
              "\n",
              "  // All done.\n",
              "  yield {\n",
              "    response: {\n",
              "      action: 'complete',\n",
              "    }\n",
              "  };\n",
              "}\n",
              "\n",
              "scope.google = scope.google || {};\n",
              "scope.google.colab = scope.google.colab || {};\n",
              "scope.google.colab._files = {\n",
              "  _uploadFiles,\n",
              "  _uploadFilesContinue,\n",
              "};\n",
              "})(self);\n",
              "</script> "
            ]
          },
          "metadata": {}
        },
        {
          "output_type": "stream",
          "name": "stdout",
          "text": [
            "Saving Admission_Predict_Ver1.1.csv to Admission_Predict_Ver1.1 (3).csv\n"
          ]
        }
      ],
      "source": [
        "from google.colab import files\n",
        "uploaded = files.upload()"
      ]
    },
    {
      "cell_type": "markdown",
      "source": [
        "### Import Libraries"
      ],
      "metadata": {
        "id": "cSM9ZzaT2NUV"
      }
    },
    {
      "cell_type": "code",
      "source": [
        "import pandas as pd\n",
        "import matplotlib.pyplot as plt"
      ],
      "metadata": {
        "id": "3l_u8iku1-Yb"
      },
      "execution_count": 45,
      "outputs": []
    },
    {
      "cell_type": "markdown",
      "source": [
        "### Load data"
      ],
      "metadata": {
        "id": "31CSSLK22aaV"
      }
    },
    {
      "cell_type": "code",
      "source": [
        "# Load the dataset using the file name\n",
        "data = pd.read_csv('Admission_Predict_Ver1.1.csv')"
      ],
      "metadata": {
        "id": "YlkOU3Jw2dOL"
      },
      "execution_count": 46,
      "outputs": []
    },
    {
      "cell_type": "code",
      "source": [
        "data.head()"
      ],
      "metadata": {
        "colab": {
          "base_uri": "https://localhost:8080/",
          "height": 206
        },
        "id": "R-JGY7Wh2qey",
        "outputId": "72c2557c-8de1-441b-909d-04a28ae54943"
      },
      "execution_count": 47,
      "outputs": [
        {
          "output_type": "execute_result",
          "data": {
            "text/plain": [
              "   Serial No.  GRE Score  TOEFL Score  University Rating  SOP  LOR   CGPA  \\\n",
              "0           1        337          118                  4  4.5   4.5  9.65   \n",
              "1           2        324          107                  4  4.0   4.5  8.87   \n",
              "2           3        316          104                  3  3.0   3.5  8.00   \n",
              "3           4        322          110                  3  3.5   2.5  8.67   \n",
              "4           5        314          103                  2  2.0   3.0  8.21   \n",
              "\n",
              "   Research  Chance of Admit   \n",
              "0         1              0.92  \n",
              "1         1              0.76  \n",
              "2         1              0.72  \n",
              "3         1              0.80  \n",
              "4         0              0.65  "
            ],
            "text/html": [
              "\n",
              "  <div id=\"df-1b7c9bb7-504f-4c51-b80f-0eb9356aa067\" class=\"colab-df-container\">\n",
              "    <div>\n",
              "<style scoped>\n",
              "    .dataframe tbody tr th:only-of-type {\n",
              "        vertical-align: middle;\n",
              "    }\n",
              "\n",
              "    .dataframe tbody tr th {\n",
              "        vertical-align: top;\n",
              "    }\n",
              "\n",
              "    .dataframe thead th {\n",
              "        text-align: right;\n",
              "    }\n",
              "</style>\n",
              "<table border=\"1\" class=\"dataframe\">\n",
              "  <thead>\n",
              "    <tr style=\"text-align: right;\">\n",
              "      <th></th>\n",
              "      <th>Serial No.</th>\n",
              "      <th>GRE Score</th>\n",
              "      <th>TOEFL Score</th>\n",
              "      <th>University Rating</th>\n",
              "      <th>SOP</th>\n",
              "      <th>LOR</th>\n",
              "      <th>CGPA</th>\n",
              "      <th>Research</th>\n",
              "      <th>Chance of Admit</th>\n",
              "    </tr>\n",
              "  </thead>\n",
              "  <tbody>\n",
              "    <tr>\n",
              "      <th>0</th>\n",
              "      <td>1</td>\n",
              "      <td>337</td>\n",
              "      <td>118</td>\n",
              "      <td>4</td>\n",
              "      <td>4.5</td>\n",
              "      <td>4.5</td>\n",
              "      <td>9.65</td>\n",
              "      <td>1</td>\n",
              "      <td>0.92</td>\n",
              "    </tr>\n",
              "    <tr>\n",
              "      <th>1</th>\n",
              "      <td>2</td>\n",
              "      <td>324</td>\n",
              "      <td>107</td>\n",
              "      <td>4</td>\n",
              "      <td>4.0</td>\n",
              "      <td>4.5</td>\n",
              "      <td>8.87</td>\n",
              "      <td>1</td>\n",
              "      <td>0.76</td>\n",
              "    </tr>\n",
              "    <tr>\n",
              "      <th>2</th>\n",
              "      <td>3</td>\n",
              "      <td>316</td>\n",
              "      <td>104</td>\n",
              "      <td>3</td>\n",
              "      <td>3.0</td>\n",
              "      <td>3.5</td>\n",
              "      <td>8.00</td>\n",
              "      <td>1</td>\n",
              "      <td>0.72</td>\n",
              "    </tr>\n",
              "    <tr>\n",
              "      <th>3</th>\n",
              "      <td>4</td>\n",
              "      <td>322</td>\n",
              "      <td>110</td>\n",
              "      <td>3</td>\n",
              "      <td>3.5</td>\n",
              "      <td>2.5</td>\n",
              "      <td>8.67</td>\n",
              "      <td>1</td>\n",
              "      <td>0.80</td>\n",
              "    </tr>\n",
              "    <tr>\n",
              "      <th>4</th>\n",
              "      <td>5</td>\n",
              "      <td>314</td>\n",
              "      <td>103</td>\n",
              "      <td>2</td>\n",
              "      <td>2.0</td>\n",
              "      <td>3.0</td>\n",
              "      <td>8.21</td>\n",
              "      <td>0</td>\n",
              "      <td>0.65</td>\n",
              "    </tr>\n",
              "  </tbody>\n",
              "</table>\n",
              "</div>\n",
              "    <div class=\"colab-df-buttons\">\n",
              "\n",
              "  <div class=\"colab-df-container\">\n",
              "    <button class=\"colab-df-convert\" onclick=\"convertToInteractive('df-1b7c9bb7-504f-4c51-b80f-0eb9356aa067')\"\n",
              "            title=\"Convert this dataframe to an interactive table.\"\n",
              "            style=\"display:none;\">\n",
              "\n",
              "  <svg xmlns=\"http://www.w3.org/2000/svg\" height=\"24px\" viewBox=\"0 -960 960 960\">\n",
              "    <path d=\"M120-120v-720h720v720H120Zm60-500h600v-160H180v160Zm220 220h160v-160H400v160Zm0 220h160v-160H400v160ZM180-400h160v-160H180v160Zm440 0h160v-160H620v160ZM180-180h160v-160H180v160Zm440 0h160v-160H620v160Z\"/>\n",
              "  </svg>\n",
              "    </button>\n",
              "\n",
              "  <style>\n",
              "    .colab-df-container {\n",
              "      display:flex;\n",
              "      gap: 12px;\n",
              "    }\n",
              "\n",
              "    .colab-df-convert {\n",
              "      background-color: #E8F0FE;\n",
              "      border: none;\n",
              "      border-radius: 50%;\n",
              "      cursor: pointer;\n",
              "      display: none;\n",
              "      fill: #1967D2;\n",
              "      height: 32px;\n",
              "      padding: 0 0 0 0;\n",
              "      width: 32px;\n",
              "    }\n",
              "\n",
              "    .colab-df-convert:hover {\n",
              "      background-color: #E2EBFA;\n",
              "      box-shadow: 0px 1px 2px rgba(60, 64, 67, 0.3), 0px 1px 3px 1px rgba(60, 64, 67, 0.15);\n",
              "      fill: #174EA6;\n",
              "    }\n",
              "\n",
              "    .colab-df-buttons div {\n",
              "      margin-bottom: 4px;\n",
              "    }\n",
              "\n",
              "    [theme=dark] .colab-df-convert {\n",
              "      background-color: #3B4455;\n",
              "      fill: #D2E3FC;\n",
              "    }\n",
              "\n",
              "    [theme=dark] .colab-df-convert:hover {\n",
              "      background-color: #434B5C;\n",
              "      box-shadow: 0px 1px 3px 1px rgba(0, 0, 0, 0.15);\n",
              "      filter: drop-shadow(0px 1px 2px rgba(0, 0, 0, 0.3));\n",
              "      fill: #FFFFFF;\n",
              "    }\n",
              "  </style>\n",
              "\n",
              "    <script>\n",
              "      const buttonEl =\n",
              "        document.querySelector('#df-1b7c9bb7-504f-4c51-b80f-0eb9356aa067 button.colab-df-convert');\n",
              "      buttonEl.style.display =\n",
              "        google.colab.kernel.accessAllowed ? 'block' : 'none';\n",
              "\n",
              "      async function convertToInteractive(key) {\n",
              "        const element = document.querySelector('#df-1b7c9bb7-504f-4c51-b80f-0eb9356aa067');\n",
              "        const dataTable =\n",
              "          await google.colab.kernel.invokeFunction('convertToInteractive',\n",
              "                                                    [key], {});\n",
              "        if (!dataTable) return;\n",
              "\n",
              "        const docLinkHtml = 'Like what you see? Visit the ' +\n",
              "          '<a target=\"_blank\" href=https://colab.research.google.com/notebooks/data_table.ipynb>data table notebook</a>'\n",
              "          + ' to learn more about interactive tables.';\n",
              "        element.innerHTML = '';\n",
              "        dataTable['output_type'] = 'display_data';\n",
              "        await google.colab.output.renderOutput(dataTable, element);\n",
              "        const docLink = document.createElement('div');\n",
              "        docLink.innerHTML = docLinkHtml;\n",
              "        element.appendChild(docLink);\n",
              "      }\n",
              "    </script>\n",
              "  </div>\n",
              "\n",
              "\n",
              "<div id=\"df-d48d61be-21ab-4332-b8fd-a8022fe08953\">\n",
              "  <button class=\"colab-df-quickchart\" onclick=\"quickchart('df-d48d61be-21ab-4332-b8fd-a8022fe08953')\"\n",
              "            title=\"Suggest charts\"\n",
              "            style=\"display:none;\">\n",
              "\n",
              "<svg xmlns=\"http://www.w3.org/2000/svg\" height=\"24px\"viewBox=\"0 0 24 24\"\n",
              "     width=\"24px\">\n",
              "    <g>\n",
              "        <path d=\"M19 3H5c-1.1 0-2 .9-2 2v14c0 1.1.9 2 2 2h14c1.1 0 2-.9 2-2V5c0-1.1-.9-2-2-2zM9 17H7v-7h2v7zm4 0h-2V7h2v10zm4 0h-2v-4h2v4z\"/>\n",
              "    </g>\n",
              "</svg>\n",
              "  </button>\n",
              "\n",
              "<style>\n",
              "  .colab-df-quickchart {\n",
              "      --bg-color: #E8F0FE;\n",
              "      --fill-color: #1967D2;\n",
              "      --hover-bg-color: #E2EBFA;\n",
              "      --hover-fill-color: #174EA6;\n",
              "      --disabled-fill-color: #AAA;\n",
              "      --disabled-bg-color: #DDD;\n",
              "  }\n",
              "\n",
              "  [theme=dark] .colab-df-quickchart {\n",
              "      --bg-color: #3B4455;\n",
              "      --fill-color: #D2E3FC;\n",
              "      --hover-bg-color: #434B5C;\n",
              "      --hover-fill-color: #FFFFFF;\n",
              "      --disabled-bg-color: #3B4455;\n",
              "      --disabled-fill-color: #666;\n",
              "  }\n",
              "\n",
              "  .colab-df-quickchart {\n",
              "    background-color: var(--bg-color);\n",
              "    border: none;\n",
              "    border-radius: 50%;\n",
              "    cursor: pointer;\n",
              "    display: none;\n",
              "    fill: var(--fill-color);\n",
              "    height: 32px;\n",
              "    padding: 0;\n",
              "    width: 32px;\n",
              "  }\n",
              "\n",
              "  .colab-df-quickchart:hover {\n",
              "    background-color: var(--hover-bg-color);\n",
              "    box-shadow: 0 1px 2px rgba(60, 64, 67, 0.3), 0 1px 3px 1px rgba(60, 64, 67, 0.15);\n",
              "    fill: var(--button-hover-fill-color);\n",
              "  }\n",
              "\n",
              "  .colab-df-quickchart-complete:disabled,\n",
              "  .colab-df-quickchart-complete:disabled:hover {\n",
              "    background-color: var(--disabled-bg-color);\n",
              "    fill: var(--disabled-fill-color);\n",
              "    box-shadow: none;\n",
              "  }\n",
              "\n",
              "  .colab-df-spinner {\n",
              "    border: 2px solid var(--fill-color);\n",
              "    border-color: transparent;\n",
              "    border-bottom-color: var(--fill-color);\n",
              "    animation:\n",
              "      spin 1s steps(1) infinite;\n",
              "  }\n",
              "\n",
              "  @keyframes spin {\n",
              "    0% {\n",
              "      border-color: transparent;\n",
              "      border-bottom-color: var(--fill-color);\n",
              "      border-left-color: var(--fill-color);\n",
              "    }\n",
              "    20% {\n",
              "      border-color: transparent;\n",
              "      border-left-color: var(--fill-color);\n",
              "      border-top-color: var(--fill-color);\n",
              "    }\n",
              "    30% {\n",
              "      border-color: transparent;\n",
              "      border-left-color: var(--fill-color);\n",
              "      border-top-color: var(--fill-color);\n",
              "      border-right-color: var(--fill-color);\n",
              "    }\n",
              "    40% {\n",
              "      border-color: transparent;\n",
              "      border-right-color: var(--fill-color);\n",
              "      border-top-color: var(--fill-color);\n",
              "    }\n",
              "    60% {\n",
              "      border-color: transparent;\n",
              "      border-right-color: var(--fill-color);\n",
              "    }\n",
              "    80% {\n",
              "      border-color: transparent;\n",
              "      border-right-color: var(--fill-color);\n",
              "      border-bottom-color: var(--fill-color);\n",
              "    }\n",
              "    90% {\n",
              "      border-color: transparent;\n",
              "      border-bottom-color: var(--fill-color);\n",
              "    }\n",
              "  }\n",
              "</style>\n",
              "\n",
              "  <script>\n",
              "    async function quickchart(key) {\n",
              "      const quickchartButtonEl =\n",
              "        document.querySelector('#' + key + ' button');\n",
              "      quickchartButtonEl.disabled = true;  // To prevent multiple clicks.\n",
              "      quickchartButtonEl.classList.add('colab-df-spinner');\n",
              "      try {\n",
              "        const charts = await google.colab.kernel.invokeFunction(\n",
              "            'suggestCharts', [key], {});\n",
              "      } catch (error) {\n",
              "        console.error('Error during call to suggestCharts:', error);\n",
              "      }\n",
              "      quickchartButtonEl.classList.remove('colab-df-spinner');\n",
              "      quickchartButtonEl.classList.add('colab-df-quickchart-complete');\n",
              "    }\n",
              "    (() => {\n",
              "      let quickchartButtonEl =\n",
              "        document.querySelector('#df-d48d61be-21ab-4332-b8fd-a8022fe08953 button');\n",
              "      quickchartButtonEl.style.display =\n",
              "        google.colab.kernel.accessAllowed ? 'block' : 'none';\n",
              "    })();\n",
              "  </script>\n",
              "</div>\n",
              "\n",
              "    </div>\n",
              "  </div>\n"
            ],
            "application/vnd.google.colaboratory.intrinsic+json": {
              "type": "dataframe",
              "variable_name": "data",
              "summary": "{\n  \"name\": \"data\",\n  \"rows\": 500,\n  \"fields\": [\n    {\n      \"column\": \"Serial No.\",\n      \"properties\": {\n        \"dtype\": \"number\",\n        \"std\": 144,\n        \"min\": 1,\n        \"max\": 500,\n        \"num_unique_values\": 500,\n        \"samples\": [\n          362,\n          74,\n          375\n        ],\n        \"semantic_type\": \"\",\n        \"description\": \"\"\n      }\n    },\n    {\n      \"column\": \"GRE Score\",\n      \"properties\": {\n        \"dtype\": \"number\",\n        \"std\": 11,\n        \"min\": 290,\n        \"max\": 340,\n        \"num_unique_values\": 49,\n        \"samples\": [\n          307,\n          335,\n          297\n        ],\n        \"semantic_type\": \"\",\n        \"description\": \"\"\n      }\n    },\n    {\n      \"column\": \"TOEFL Score\",\n      \"properties\": {\n        \"dtype\": \"number\",\n        \"std\": 6,\n        \"min\": 92,\n        \"max\": 120,\n        \"num_unique_values\": 29,\n        \"samples\": [\n          94,\n          119,\n          112\n        ],\n        \"semantic_type\": \"\",\n        \"description\": \"\"\n      }\n    },\n    {\n      \"column\": \"University Rating\",\n      \"properties\": {\n        \"dtype\": \"number\",\n        \"std\": 1,\n        \"min\": 1,\n        \"max\": 5,\n        \"num_unique_values\": 5,\n        \"samples\": [\n          3,\n          1,\n          2\n        ],\n        \"semantic_type\": \"\",\n        \"description\": \"\"\n      }\n    },\n    {\n      \"column\": \"SOP\",\n      \"properties\": {\n        \"dtype\": \"number\",\n        \"std\": 0.9910036207566072,\n        \"min\": 1.0,\n        \"max\": 5.0,\n        \"num_unique_values\": 9,\n        \"samples\": [\n          1.0,\n          4.0,\n          5.0\n        ],\n        \"semantic_type\": \"\",\n        \"description\": \"\"\n      }\n    },\n    {\n      \"column\": \"LOR \",\n      \"properties\": {\n        \"dtype\": \"number\",\n        \"std\": 0.9254495738978193,\n        \"min\": 1.0,\n        \"max\": 5.0,\n        \"num_unique_values\": 9,\n        \"samples\": [\n          5.0,\n          3.5,\n          1.5\n        ],\n        \"semantic_type\": \"\",\n        \"description\": \"\"\n      }\n    },\n    {\n      \"column\": \"CGPA\",\n      \"properties\": {\n        \"dtype\": \"number\",\n        \"std\": 0.6048128003332054,\n        \"min\": 6.8,\n        \"max\": 9.92,\n        \"num_unique_values\": 184,\n        \"samples\": [\n          9.6,\n          8.9,\n          8.24\n        ],\n        \"semantic_type\": \"\",\n        \"description\": \"\"\n      }\n    },\n    {\n      \"column\": \"Research\",\n      \"properties\": {\n        \"dtype\": \"number\",\n        \"std\": 0,\n        \"min\": 0,\n        \"max\": 1,\n        \"num_unique_values\": 2,\n        \"samples\": [\n          0,\n          1\n        ],\n        \"semantic_type\": \"\",\n        \"description\": \"\"\n      }\n    },\n    {\n      \"column\": \"Chance of Admit \",\n      \"properties\": {\n        \"dtype\": \"number\",\n        \"std\": 0.14114040395030228,\n        \"min\": 0.34,\n        \"max\": 0.97,\n        \"num_unique_values\": 61,\n        \"samples\": [\n          0.92,\n          0.9\n        ],\n        \"semantic_type\": \"\",\n        \"description\": \"\"\n      }\n    }\n  ]\n}"
            }
          },
          "metadata": {},
          "execution_count": 47
        }
      ]
    },
    {
      "cell_type": "markdown",
      "source": [
        "### Some info about data"
      ],
      "metadata": {
        "id": "IAwzoPSM2x4Z"
      }
    },
    {
      "cell_type": "code",
      "source": [
        "data.isnull().sum()"
      ],
      "metadata": {
        "colab": {
          "base_uri": "https://localhost:8080/",
          "height": 366
        },
        "id": "uNR4JSAv204c",
        "outputId": "1c84118f-ab89-4592-8c0a-f11e69c0d2e1"
      },
      "execution_count": 48,
      "outputs": [
        {
          "output_type": "execute_result",
          "data": {
            "text/plain": [
              "Serial No.           0\n",
              "GRE Score            0\n",
              "TOEFL Score          0\n",
              "University Rating    0\n",
              "SOP                  0\n",
              "LOR                  0\n",
              "CGPA                 0\n",
              "Research             0\n",
              "Chance of Admit      0\n",
              "dtype: int64"
            ],
            "text/html": [
              "<div>\n",
              "<style scoped>\n",
              "    .dataframe tbody tr th:only-of-type {\n",
              "        vertical-align: middle;\n",
              "    }\n",
              "\n",
              "    .dataframe tbody tr th {\n",
              "        vertical-align: top;\n",
              "    }\n",
              "\n",
              "    .dataframe thead th {\n",
              "        text-align: right;\n",
              "    }\n",
              "</style>\n",
              "<table border=\"1\" class=\"dataframe\">\n",
              "  <thead>\n",
              "    <tr style=\"text-align: right;\">\n",
              "      <th></th>\n",
              "      <th>0</th>\n",
              "    </tr>\n",
              "  </thead>\n",
              "  <tbody>\n",
              "    <tr>\n",
              "      <th>Serial No.</th>\n",
              "      <td>0</td>\n",
              "    </tr>\n",
              "    <tr>\n",
              "      <th>GRE Score</th>\n",
              "      <td>0</td>\n",
              "    </tr>\n",
              "    <tr>\n",
              "      <th>TOEFL Score</th>\n",
              "      <td>0</td>\n",
              "    </tr>\n",
              "    <tr>\n",
              "      <th>University Rating</th>\n",
              "      <td>0</td>\n",
              "    </tr>\n",
              "    <tr>\n",
              "      <th>SOP</th>\n",
              "      <td>0</td>\n",
              "    </tr>\n",
              "    <tr>\n",
              "      <th>LOR</th>\n",
              "      <td>0</td>\n",
              "    </tr>\n",
              "    <tr>\n",
              "      <th>CGPA</th>\n",
              "      <td>0</td>\n",
              "    </tr>\n",
              "    <tr>\n",
              "      <th>Research</th>\n",
              "      <td>0</td>\n",
              "    </tr>\n",
              "    <tr>\n",
              "      <th>Chance of Admit</th>\n",
              "      <td>0</td>\n",
              "    </tr>\n",
              "  </tbody>\n",
              "</table>\n",
              "</div><br><label><b>dtype:</b> int64</label>"
            ]
          },
          "metadata": {},
          "execution_count": 48
        }
      ]
    },
    {
      "cell_type": "code",
      "source": [
        "data.info()"
      ],
      "metadata": {
        "colab": {
          "base_uri": "https://localhost:8080/"
        },
        "id": "t2sje8d8242L",
        "outputId": "36335538-8720-4489-aac2-79bce5aba16d"
      },
      "execution_count": 49,
      "outputs": [
        {
          "output_type": "stream",
          "name": "stdout",
          "text": [
            "<class 'pandas.core.frame.DataFrame'>\n",
            "RangeIndex: 500 entries, 0 to 499\n",
            "Data columns (total 9 columns):\n",
            " #   Column             Non-Null Count  Dtype  \n",
            "---  ------             --------------  -----  \n",
            " 0   Serial No.         500 non-null    int64  \n",
            " 1   GRE Score          500 non-null    int64  \n",
            " 2   TOEFL Score        500 non-null    int64  \n",
            " 3   University Rating  500 non-null    int64  \n",
            " 4   SOP                500 non-null    float64\n",
            " 5   LOR                500 non-null    float64\n",
            " 6   CGPA               500 non-null    float64\n",
            " 7   Research           500 non-null    int64  \n",
            " 8   Chance of Admit    500 non-null    float64\n",
            "dtypes: float64(4), int64(5)\n",
            "memory usage: 35.3 KB\n"
          ]
        }
      ]
    },
    {
      "cell_type": "markdown",
      "source": [
        "### Pre-processing"
      ],
      "metadata": {
        "id": "cKiGDxqF3RXl"
      }
    },
    {
      "cell_type": "code",
      "source": [
        "from sklearn.model_selection import train_test_split"
      ],
      "metadata": {
        "id": "iJjTuaKv6P34"
      },
      "execution_count": 54,
      "outputs": []
    },
    {
      "cell_type": "code",
      "source": [
        "# Preprocess the data\n",
        "data = data.drop(columns=['Serial No.'])\n",
        "data = pd.get_dummies(data, drop_first=True)"
      ],
      "metadata": {
        "id": "iWZFlgzO287i"
      },
      "execution_count": 50,
      "outputs": []
    },
    {
      "cell_type": "code",
      "source": [
        "# Split the data into features and target variable\n",
        "X = data.drop(columns=['Chance of Admit '])\n",
        "y = data['Chance of Admit ']"
      ],
      "metadata": {
        "id": "AE2pQA263X1p"
      },
      "execution_count": 51,
      "outputs": []
    },
    {
      "cell_type": "code",
      "source": [
        "# Split the data into training and testing sets\n",
        "X_train, X_test, y_train, y_test = train_test_split(X, y, test_size=0.2, random_state=42)"
      ],
      "metadata": {
        "id": "uYeJg4lO4tne"
      },
      "execution_count": 52,
      "outputs": []
    },
    {
      "cell_type": "code",
      "source": [
        "from sklearn.linear_model import LinearRegression\n",
        "from sklearn.metrics import mean_squared_error, r2_score\n",
        "\n",
        "# Initialize the Linear Regression model\n",
        "model = LinearRegression()\n",
        "\n",
        "# Train the model on the training data\n",
        "model.fit(X_train, y_train)\n",
        "\n",
        "# Predict on the test data\n",
        "y_pred = model.predict(X_test)\n",
        "\n",
        "# Evaluate the model\n",
        "mse = mean_squared_error(y_test, y_pred)\n",
        "r2 = r2_score(y_test, y_pred)\n",
        "\n",
        "print(f'Mean Squared Error: {mse}')\n",
        "print(f'R^2 Score: {r2}')"
      ],
      "metadata": {
        "colab": {
          "base_uri": "https://localhost:8080/"
        },
        "id": "GpH784Te5cYG",
        "outputId": "79e36782-a53e-4d68-b452-4dcf879b4887"
      },
      "execution_count": 57,
      "outputs": [
        {
          "output_type": "stream",
          "name": "stdout",
          "text": [
            "Mean Squared Error: 0.003704655398788405\n",
            "R^2 Score: 0.8188432567829631\n"
          ]
        }
      ]
    },
    {
      "cell_type": "code",
      "source": [
        "# Display coefficients of the Linear Regression model\n",
        "coefficients = pd.DataFrame(model.coef_, X.columns, columns=['Coefficient'])\n",
        "print(coefficients)"
      ],
      "metadata": {
        "colab": {
          "base_uri": "https://localhost:8080/"
        },
        "id": "8uuw9C-w63rA",
        "outputId": "db9c85ec-5e25-4242-a459-4b79af505087"
      },
      "execution_count": 61,
      "outputs": [
        {
          "output_type": "stream",
          "name": "stdout",
          "text": [
            "                   Coefficient\n",
            "GRE Score             0.002434\n",
            "TOEFL Score           0.002996\n",
            "University Rating     0.002569\n",
            "SOP                   0.001814\n",
            "LOR                   0.017238\n",
            "CGPA                  0.112527\n",
            "Research              0.024027\n"
          ]
        }
      ]
    },
    {
      "cell_type": "markdown",
      "source": [
        "### Import Libraries"
      ],
      "metadata": {
        "id": "Xx3KbXvO6teb"
      }
    },
    {
      "cell_type": "code",
      "source": [
        "import numpy as np\n",
        "from sklearn.model_selection import train_test_split\n",
        "from sklearn.preprocessing import StandardScaler\n",
        "import tensorflow as tf\n",
        "from tensorflow.keras.models import Sequential\n",
        "from tensorflow.keras.layers import Dense"
      ],
      "metadata": {
        "id": "6ixP2W2L6v4a"
      },
      "execution_count": 58,
      "outputs": []
    },
    {
      "cell_type": "markdown",
      "source": [
        "### Building the model"
      ],
      "metadata": {
        "id": "hqdSnRIt7Lnh"
      }
    },
    {
      "cell_type": "code",
      "source": [
        "# Neural Network Model\n",
        "model = Sequential([\n",
        "    Dense(64, activation='relu', input_shape=(X_train.shape[1],)),\n",
        "    Dense(64, activation='relu'),\n",
        "    Dense(1)\n",
        "])"
      ],
      "metadata": {
        "colab": {
          "base_uri": "https://localhost:8080/"
        },
        "id": "JDfSO3Gz7QMJ",
        "outputId": "443063d8-2ae0-4115-dc59-49af5ea926f7"
      },
      "execution_count": 62,
      "outputs": [
        {
          "output_type": "stream",
          "name": "stderr",
          "text": [
            "/usr/local/lib/python3.10/dist-packages/keras/src/layers/core/dense.py:87: UserWarning: Do not pass an `input_shape`/`input_dim` argument to a layer. When using Sequential models, prefer using an `Input(shape)` object as the first layer in the model instead.\n",
            "  super().__init__(activity_regularizer=activity_regularizer, **kwargs)\n"
          ]
        }
      ]
    },
    {
      "cell_type": "markdown",
      "source": [
        "### Compile the model"
      ],
      "metadata": {
        "id": "WOQ-vozc7Tgd"
      }
    },
    {
      "cell_type": "code",
      "source": [
        "# Compile the mode\n",
        "model.compile(optimizer='adam', loss='mse', metrics=['mae'])"
      ],
      "metadata": {
        "id": "nE1keEnB7WiS"
      },
      "execution_count": 65,
      "outputs": []
    },
    {
      "cell_type": "markdown",
      "source": [
        "### Train the model"
      ],
      "metadata": {
        "id": "ZOXdzYxI7Z7y"
      }
    },
    {
      "cell_type": "code",
      "source": [
        "# Training model\n",
        "history = model.fit(X_train, y_train, epochs=100, validation_split=0.2, verbose=2)"
      ],
      "metadata": {
        "colab": {
          "base_uri": "https://localhost:8080/"
        },
        "id": "baXwLvot7b-D",
        "outputId": "eaecff37-edf2-4c95-f3fd-7bf3bb87539e"
      },
      "execution_count": 64,
      "outputs": [
        {
          "output_type": "stream",
          "name": "stdout",
          "text": [
            "Epoch 1/100\n",
            "10/10 - 2s - 217ms/step - loss: 490.6166 - mae: 19.1539 - val_loss: 251.6460 - val_mae: 15.8550\n",
            "Epoch 2/100\n",
            "10/10 - 0s - 25ms/step - loss: 86.7811 - mae: 8.2554 - val_loss: 109.7775 - val_mae: 10.4424\n",
            "Epoch 3/100\n",
            "10/10 - 0s - 13ms/step - loss: 35.1559 - mae: 5.1284 - val_loss: 39.0029 - val_mae: 6.2252\n",
            "Epoch 4/100\n",
            "10/10 - 0s - 10ms/step - loss: 14.5311 - mae: 3.2659 - val_loss: 14.5805 - val_mae: 3.7549\n",
            "Epoch 5/100\n",
            "10/10 - 0s - 10ms/step - loss: 5.6664 - mae: 2.0225 - val_loss: 5.2840 - val_mae: 2.2303\n",
            "Epoch 6/100\n",
            "10/10 - 0s - 14ms/step - loss: 2.3366 - mae: 1.3085 - val_loss: 2.5342 - val_mae: 1.4604\n",
            "Epoch 7/100\n",
            "10/10 - 0s - 11ms/step - loss: 1.0069 - mae: 0.8299 - val_loss: 1.0140 - val_mae: 0.8392\n",
            "Epoch 8/100\n",
            "10/10 - 0s - 13ms/step - loss: 0.4928 - mae: 0.5607 - val_loss: 0.6427 - val_mae: 0.6638\n",
            "Epoch 9/100\n",
            "10/10 - 0s - 14ms/step - loss: 0.4008 - mae: 0.5206 - val_loss: 0.3757 - val_mae: 0.5020\n",
            "Epoch 10/100\n",
            "10/10 - 0s - 14ms/step - loss: 0.3063 - mae: 0.4586 - val_loss: 0.3640 - val_mae: 0.5105\n",
            "Epoch 11/100\n",
            "10/10 - 0s - 13ms/step - loss: 0.3158 - mae: 0.4659 - val_loss: 0.3833 - val_mae: 0.5269\n",
            "Epoch 12/100\n",
            "10/10 - 0s - 15ms/step - loss: 0.3115 - mae: 0.4674 - val_loss: 0.3648 - val_mae: 0.4959\n",
            "Epoch 13/100\n",
            "10/10 - 0s - 15ms/step - loss: 0.2991 - mae: 0.4536 - val_loss: 0.3529 - val_mae: 0.5017\n",
            "Epoch 14/100\n",
            "10/10 - 0s - 11ms/step - loss: 0.2865 - mae: 0.4448 - val_loss: 0.3426 - val_mae: 0.4907\n",
            "Epoch 15/100\n",
            "10/10 - 0s - 14ms/step - loss: 0.2841 - mae: 0.4410 - val_loss: 0.3403 - val_mae: 0.4848\n",
            "Epoch 16/100\n",
            "10/10 - 0s - 11ms/step - loss: 0.2881 - mae: 0.4462 - val_loss: 0.4210 - val_mae: 0.5481\n",
            "Epoch 17/100\n",
            "10/10 - 0s - 13ms/step - loss: 0.3107 - mae: 0.4597 - val_loss: 0.3317 - val_mae: 0.4803\n",
            "Epoch 18/100\n",
            "10/10 - 0s - 14ms/step - loss: 0.2894 - mae: 0.4435 - val_loss: 0.3323 - val_mae: 0.4786\n",
            "Epoch 19/100\n",
            "10/10 - 0s - 13ms/step - loss: 0.2841 - mae: 0.4379 - val_loss: 0.3276 - val_mae: 0.4759\n",
            "Epoch 20/100\n",
            "10/10 - 0s - 11ms/step - loss: 0.2801 - mae: 0.4380 - val_loss: 0.3294 - val_mae: 0.4846\n",
            "Epoch 21/100\n",
            "10/10 - 0s - 10ms/step - loss: 0.2670 - mae: 0.4285 - val_loss: 0.3207 - val_mae: 0.4710\n",
            "Epoch 22/100\n",
            "10/10 - 0s - 15ms/step - loss: 0.2829 - mae: 0.4406 - val_loss: 0.3245 - val_mae: 0.4817\n",
            "Epoch 23/100\n",
            "10/10 - 0s - 10ms/step - loss: 0.2682 - mae: 0.4360 - val_loss: 0.3451 - val_mae: 0.4998\n",
            "Epoch 24/100\n",
            "10/10 - 0s - 13ms/step - loss: 0.2696 - mae: 0.4287 - val_loss: 0.3118 - val_mae: 0.4694\n",
            "Epoch 25/100\n",
            "10/10 - 0s - 6ms/step - loss: 0.2574 - mae: 0.4193 - val_loss: 0.3065 - val_mae: 0.4645\n",
            "Epoch 26/100\n",
            "10/10 - 0s - 6ms/step - loss: 0.2574 - mae: 0.4204 - val_loss: 0.3291 - val_mae: 0.4879\n",
            "Epoch 27/100\n",
            "10/10 - 0s - 6ms/step - loss: 0.2488 - mae: 0.4114 - val_loss: 0.2994 - val_mae: 0.4554\n",
            "Epoch 28/100\n",
            "10/10 - 0s - 9ms/step - loss: 0.2522 - mae: 0.4167 - val_loss: 0.2977 - val_mae: 0.4593\n",
            "Epoch 29/100\n",
            "10/10 - 0s - 14ms/step - loss: 0.2512 - mae: 0.4119 - val_loss: 0.3075 - val_mae: 0.4708\n",
            "Epoch 30/100\n",
            "10/10 - 0s - 8ms/step - loss: 0.2497 - mae: 0.4121 - val_loss: 0.3317 - val_mae: 0.4891\n",
            "Epoch 31/100\n",
            "10/10 - 0s - 6ms/step - loss: 0.2451 - mae: 0.4120 - val_loss: 0.2847 - val_mae: 0.4476\n",
            "Epoch 32/100\n",
            "10/10 - 0s - 7ms/step - loss: 0.2368 - mae: 0.4022 - val_loss: 0.2836 - val_mae: 0.4423\n",
            "Epoch 33/100\n",
            "10/10 - 0s - 6ms/step - loss: 0.2381 - mae: 0.3998 - val_loss: 0.2764 - val_mae: 0.4392\n",
            "Epoch 34/100\n",
            "10/10 - 0s - 8ms/step - loss: 0.2393 - mae: 0.4073 - val_loss: 0.2809 - val_mae: 0.4390\n",
            "Epoch 35/100\n",
            "10/10 - 0s - 12ms/step - loss: 0.2349 - mae: 0.4019 - val_loss: 0.2690 - val_mae: 0.4335\n",
            "Epoch 36/100\n",
            "10/10 - 0s - 6ms/step - loss: 0.2239 - mae: 0.3934 - val_loss: 0.2681 - val_mae: 0.4364\n",
            "Epoch 37/100\n",
            "10/10 - 0s - 6ms/step - loss: 0.2231 - mae: 0.3922 - val_loss: 0.2685 - val_mae: 0.4385\n",
            "Epoch 38/100\n",
            "10/10 - 0s - 14ms/step - loss: 0.2188 - mae: 0.3870 - val_loss: 0.2586 - val_mae: 0.4246\n",
            "Epoch 39/100\n",
            "10/10 - 0s - 14ms/step - loss: 0.2267 - mae: 0.3958 - val_loss: 0.2719 - val_mae: 0.4280\n",
            "Epoch 40/100\n",
            "10/10 - 0s - 8ms/step - loss: 0.2262 - mae: 0.3872 - val_loss: 0.2648 - val_mae: 0.4238\n",
            "Epoch 41/100\n",
            "10/10 - 0s - 12ms/step - loss: 0.2405 - mae: 0.4062 - val_loss: 0.2491 - val_mae: 0.4157\n",
            "Epoch 42/100\n",
            "10/10 - 0s - 6ms/step - loss: 0.2203 - mae: 0.3889 - val_loss: 0.2569 - val_mae: 0.4302\n",
            "Epoch 43/100\n",
            "10/10 - 0s - 8ms/step - loss: 0.2022 - mae: 0.3725 - val_loss: 0.2534 - val_mae: 0.4273\n",
            "Epoch 44/100\n",
            "10/10 - 0s - 14ms/step - loss: 0.2086 - mae: 0.3769 - val_loss: 0.2505 - val_mae: 0.4249\n",
            "Epoch 45/100\n",
            "10/10 - 0s - 7ms/step - loss: 0.2018 - mae: 0.3734 - val_loss: 0.2605 - val_mae: 0.4336\n",
            "Epoch 46/100\n",
            "10/10 - 0s - 6ms/step - loss: 0.1995 - mae: 0.3710 - val_loss: 0.2376 - val_mae: 0.4134\n",
            "Epoch 47/100\n",
            "10/10 - 0s - 6ms/step - loss: 0.2017 - mae: 0.3718 - val_loss: 0.2517 - val_mae: 0.4261\n",
            "Epoch 48/100\n",
            "10/10 - 0s - 7ms/step - loss: 0.1886 - mae: 0.3580 - val_loss: 0.2256 - val_mae: 0.4018\n",
            "Epoch 49/100\n",
            "10/10 - 0s - 16ms/step - loss: 0.1902 - mae: 0.3566 - val_loss: 0.2301 - val_mae: 0.3955\n",
            "Epoch 50/100\n",
            "10/10 - 0s - 14ms/step - loss: 0.1858 - mae: 0.3567 - val_loss: 0.2235 - val_mae: 0.3915\n",
            "Epoch 51/100\n",
            "10/10 - 0s - 6ms/step - loss: 0.2207 - mae: 0.3840 - val_loss: 0.2794 - val_mae: 0.4184\n",
            "Epoch 52/100\n",
            "10/10 - 0s - 8ms/step - loss: 0.2040 - mae: 0.3724 - val_loss: 0.2167 - val_mae: 0.3853\n",
            "Epoch 53/100\n",
            "10/10 - 0s - 12ms/step - loss: 0.1738 - mae: 0.3469 - val_loss: 0.2203 - val_mae: 0.3984\n",
            "Epoch 54/100\n",
            "10/10 - 0s - 6ms/step - loss: 0.1717 - mae: 0.3457 - val_loss: 0.2094 - val_mae: 0.3883\n",
            "Epoch 55/100\n",
            "10/10 - 0s - 6ms/step - loss: 0.1691 - mae: 0.3399 - val_loss: 0.2049 - val_mae: 0.3841\n",
            "Epoch 56/100\n",
            "10/10 - 0s - 6ms/step - loss: 0.1666 - mae: 0.3386 - val_loss: 0.2015 - val_mae: 0.3809\n",
            "Epoch 57/100\n",
            "10/10 - 0s - 6ms/step - loss: 0.1682 - mae: 0.3364 - val_loss: 0.2079 - val_mae: 0.3872\n",
            "Epoch 58/100\n",
            "10/10 - 0s - 14ms/step - loss: 0.1765 - mae: 0.3498 - val_loss: 0.2151 - val_mae: 0.3936\n",
            "Epoch 59/100\n",
            "10/10 - 0s - 6ms/step - loss: 0.1558 - mae: 0.3265 - val_loss: 0.1851 - val_mae: 0.3612\n",
            "Epoch 60/100\n",
            "10/10 - 0s - 8ms/step - loss: 0.1550 - mae: 0.3261 - val_loss: 0.1825 - val_mae: 0.3586\n",
            "Epoch 61/100\n",
            "10/10 - 0s - 7ms/step - loss: 0.1548 - mae: 0.3265 - val_loss: 0.1891 - val_mae: 0.3695\n",
            "Epoch 62/100\n",
            "10/10 - 0s - 13ms/step - loss: 0.1465 - mae: 0.3168 - val_loss: 0.1769 - val_mae: 0.3528\n",
            "Epoch 63/100\n",
            "10/10 - 0s - 14ms/step - loss: 0.1521 - mae: 0.3206 - val_loss: 0.1733 - val_mae: 0.3525\n",
            "Epoch 64/100\n",
            "10/10 - 0s - 6ms/step - loss: 0.1731 - mae: 0.3441 - val_loss: 0.1766 - val_mae: 0.3571\n",
            "Epoch 65/100\n",
            "10/10 - 0s - 15ms/step - loss: 0.1738 - mae: 0.3471 - val_loss: 0.2109 - val_mae: 0.3902\n",
            "Epoch 66/100\n",
            "10/10 - 0s - 14ms/step - loss: 0.1497 - mae: 0.3184 - val_loss: 0.2114 - val_mae: 0.3907\n",
            "Epoch 67/100\n",
            "10/10 - 0s - 6ms/step - loss: 0.1516 - mae: 0.3249 - val_loss: 0.1986 - val_mae: 0.3786\n",
            "Epoch 68/100\n",
            "10/10 - 0s - 6ms/step - loss: 0.1564 - mae: 0.3271 - val_loss: 0.1731 - val_mae: 0.3535\n",
            "Epoch 69/100\n",
            "10/10 - 0s - 6ms/step - loss: 0.1361 - mae: 0.3066 - val_loss: 0.1565 - val_mae: 0.3317\n",
            "Epoch 70/100\n",
            "10/10 - 0s - 16ms/step - loss: 0.1354 - mae: 0.3046 - val_loss: 0.1589 - val_mae: 0.3299\n",
            "Epoch 71/100\n",
            "10/10 - 0s - 9ms/step - loss: 0.1331 - mae: 0.2988 - val_loss: 0.1692 - val_mae: 0.3327\n",
            "Epoch 72/100\n",
            "10/10 - 0s - 8ms/step - loss: 0.1500 - mae: 0.3139 - val_loss: 0.1728 - val_mae: 0.3328\n",
            "Epoch 73/100\n",
            "10/10 - 0s - 12ms/step - loss: 0.1324 - mae: 0.2996 - val_loss: 0.1433 - val_mae: 0.3202\n",
            "Epoch 74/100\n",
            "10/10 - 0s - 8ms/step - loss: 0.1288 - mae: 0.2947 - val_loss: 0.1572 - val_mae: 0.3368\n",
            "Epoch 75/100\n",
            "10/10 - 0s - 6ms/step - loss: 0.1365 - mae: 0.3078 - val_loss: 0.1758 - val_mae: 0.3564\n",
            "Epoch 76/100\n",
            "10/10 - 0s - 8ms/step - loss: 0.1192 - mae: 0.2848 - val_loss: 0.1354 - val_mae: 0.3119\n",
            "Epoch 77/100\n",
            "10/10 - 0s - 14ms/step - loss: 0.1214 - mae: 0.2878 - val_loss: 0.1454 - val_mae: 0.3237\n",
            "Epoch 78/100\n",
            "10/10 - 0s - 12ms/step - loss: 0.1320 - mae: 0.2998 - val_loss: 0.1756 - val_mae: 0.3565\n",
            "Epoch 79/100\n",
            "10/10 - 0s - 8ms/step - loss: 0.1295 - mae: 0.2946 - val_loss: 0.1438 - val_mae: 0.3224\n",
            "Epoch 80/100\n",
            "10/10 - 0s - 14ms/step - loss: 0.1077 - mae: 0.2727 - val_loss: 0.1253 - val_mae: 0.3008\n",
            "Epoch 81/100\n",
            "10/10 - 0s - 13ms/step - loss: 0.1150 - mae: 0.2804 - val_loss: 0.1547 - val_mae: 0.3350\n",
            "Epoch 82/100\n",
            "10/10 - 0s - 13ms/step - loss: 0.1206 - mae: 0.2805 - val_loss: 0.1227 - val_mae: 0.2991\n",
            "Epoch 83/100\n",
            "10/10 - 0s - 6ms/step - loss: 0.1085 - mae: 0.2718 - val_loss: 0.1181 - val_mae: 0.2926\n",
            "Epoch 84/100\n",
            "10/10 - 0s - 6ms/step - loss: 0.0997 - mae: 0.2592 - val_loss: 0.1166 - val_mae: 0.2877\n",
            "Epoch 85/100\n",
            "10/10 - 0s - 6ms/step - loss: 0.1009 - mae: 0.2633 - val_loss: 0.1146 - val_mae: 0.2891\n",
            "Epoch 86/100\n",
            "10/10 - 0s - 6ms/step - loss: 0.0978 - mae: 0.2590 - val_loss: 0.1157 - val_mae: 0.2904\n",
            "Epoch 87/100\n",
            "10/10 - 0s - 6ms/step - loss: 0.0968 - mae: 0.2568 - val_loss: 0.1132 - val_mae: 0.2786\n",
            "Epoch 88/100\n",
            "10/10 - 0s - 7ms/step - loss: 0.0988 - mae: 0.2575 - val_loss: 0.1068 - val_mae: 0.2784\n",
            "Epoch 89/100\n",
            "10/10 - 0s - 13ms/step - loss: 0.1025 - mae: 0.2670 - val_loss: 0.1274 - val_mae: 0.3053\n",
            "Epoch 90/100\n",
            "10/10 - 0s - 6ms/step - loss: 0.0970 - mae: 0.2518 - val_loss: 0.1305 - val_mae: 0.3089\n",
            "Epoch 91/100\n",
            "10/10 - 0s - 16ms/step - loss: 0.1090 - mae: 0.2698 - val_loss: 0.1183 - val_mae: 0.2941\n",
            "Epoch 92/100\n",
            "10/10 - 0s - 6ms/step - loss: 0.0956 - mae: 0.2499 - val_loss: 0.0988 - val_mae: 0.2668\n",
            "Epoch 93/100\n",
            "10/10 - 0s - 13ms/step - loss: 0.0884 - mae: 0.2450 - val_loss: 0.1027 - val_mae: 0.2630\n",
            "Epoch 94/100\n",
            "10/10 - 0s - 6ms/step - loss: 0.0903 - mae: 0.2443 - val_loss: 0.0961 - val_mae: 0.2606\n",
            "Epoch 95/100\n",
            "10/10 - 0s - 6ms/step - loss: 0.0884 - mae: 0.2451 - val_loss: 0.0946 - val_mae: 0.2626\n",
            "Epoch 96/100\n",
            "10/10 - 0s - 8ms/step - loss: 0.0819 - mae: 0.2344 - val_loss: 0.0933 - val_mae: 0.2608\n",
            "Epoch 97/100\n",
            "10/10 - 0s - 12ms/step - loss: 0.0808 - mae: 0.2340 - val_loss: 0.0913 - val_mae: 0.2524\n",
            "Epoch 98/100\n",
            "10/10 - 0s - 8ms/step - loss: 0.0831 - mae: 0.2357 - val_loss: 0.1032 - val_mae: 0.2755\n",
            "Epoch 99/100\n",
            "10/10 - 0s - 11ms/step - loss: 0.0779 - mae: 0.2267 - val_loss: 0.0896 - val_mae: 0.2561\n",
            "Epoch 100/100\n",
            "10/10 - 0s - 6ms/step - loss: 0.0776 - mae: 0.2269 - val_loss: 0.0841 - val_mae: 0.2471\n"
          ]
        }
      ]
    },
    {
      "cell_type": "markdown",
      "source": [
        "### Evaluate the model"
      ],
      "metadata": {
        "id": "8SwKeDs_70RO"
      }
    },
    {
      "cell_type": "code",
      "source": [
        "# Evaluate the model\n",
        "loss, mae = model.evaluate(X_test, y_test, verbose=2)\n",
        "print(f'Mean Absolute Error: {mae}')"
      ],
      "metadata": {
        "colab": {
          "base_uri": "https://localhost:8080/"
        },
        "id": "OAXxkvVC7u83",
        "outputId": "e1501e22-40fe-4092-d4d7-66927a996ccd"
      },
      "execution_count": 67,
      "outputs": [
        {
          "output_type": "stream",
          "name": "stdout",
          "text": [
            "4/4 - 0s - 6ms/step - loss: 0.0805 - mae: 0.2334\n",
            "Mean Absolute Error: 0.23343254625797272\n"
          ]
        }
      ]
    },
    {
      "cell_type": "markdown",
      "source": [
        "### Make predictions"
      ],
      "metadata": {
        "id": "iJtLXG2n8B4a"
      }
    },
    {
      "cell_type": "code",
      "source": [
        "# Make predictions\n",
        "y_pred_nn = model.predict(X_test)"
      ],
      "metadata": {
        "colab": {
          "base_uri": "https://localhost:8080/"
        },
        "id": "myKCw2r3732s",
        "outputId": "c658ea80-3a03-4c67-af2e-71089e031182"
      },
      "execution_count": 68,
      "outputs": [
        {
          "output_type": "stream",
          "name": "stdout",
          "text": [
            "\u001b[1m4/4\u001b[0m \u001b[32m━━━━━━━━━━━━━━━━━━━━\u001b[0m\u001b[37m\u001b[0m \u001b[1m0s\u001b[0m 43ms/step\n"
          ]
        }
      ]
    },
    {
      "cell_type": "code",
      "source": [
        "# Plot predictions vs actual values\n",
        "plt.figure(figsize=(10, 6))\n",
        "plt.scatter(y_test, y_pred_nn, alpha=0.5)\n",
        "plt.plot([0, 1], [0, 1], color='red', linestyle='--')\n",
        "plt.xlabel('Actual Chance of Admit')\n",
        "plt.ylabel('Predicted Chance of Admit')\n",
        "plt.title('Predicted vs Actual Chance of Admit (Neural Network)')\n",
        "plt.show()"
      ],
      "metadata": {
        "colab": {
          "base_uri": "https://localhost:8080/",
          "height": 564
        },
        "id": "SG5brrZS8KGU",
        "outputId": "fea0e5d9-9412-4cb1-ab30-715051cd34dc"
      },
      "execution_count": 69,
      "outputs": [
        {
          "output_type": "display_data",
          "data": {
            "text/plain": [
              "<Figure size 1000x600 with 1 Axes>"
            ],
            "image/png": "[encoded data removed]"
          },
          "metadata": {}
        }
      ]
    },
    {
      "cell_type": "code",
      "source": [
        "# Print some example predictions\n",
        "for actual, predicted in zip(y_test[:10], y_pred_nn[:10]):\n",
        "    print(f'Actual: {actual:.4f}, Predicted: {predicted[0]:.4f}')"
      ],
      "metadata": {
        "colab": {
          "base_uri": "https://localhost:8080/"
        },
        "id": "vPxbs8GH8Ob9",
        "outputId": "c6658c02-a970-439e-a340-ca9927ae3cb8"
      },
      "execution_count": 70,
      "outputs": [
        {
          "output_type": "stream",
          "name": "stdout",
          "text": [
            "Actual: 0.9300, Predicted: 0.8522\n",
            "Actual: 0.8400, Predicted: 0.5634\n",
            "Actual: 0.3900, Predicted: 0.9814\n",
            "Actual: 0.7700, Predicted: 0.9067\n",
            "Actual: 0.7400, Predicted: 0.9036\n",
            "Actual: 0.8900, Predicted: 0.5810\n",
            "Actual: 0.4700, Predicted: 1.1047\n",
            "Actual: 0.5700, Predicted: 0.9816\n",
            "Actual: 0.6800, Predicted: 0.7705\n",
            "Actual: 0.8200, Predicted: 0.8791\n"
          ]
        }
      ]
    },
    {
      "cell_type": "code",
      "source": [
        "# Plot the loss over epochs\n",
        "plt.figure(figsize=(10, 6))\n",
        "plt.plot(history.history['loss'], label='Training Loss')\n",
        "plt.plot(history.history['val_loss'], label='Validation Loss')\n",
        "plt.xlabel('Epochs')\n",
        "plt.ylabel('Loss')\n",
        "plt.title('Training and Validation Loss Over Epochs')\n",
        "plt.legend()\n",
        "plt.show()"
      ],
      "metadata": {
        "colab": {
          "base_uri": "https://localhost:8080/",
          "height": 564
        },
        "id": "ILVlEFZs8Rd0",
        "outputId": "abe25249-7cc9-44a1-b57e-d3c6f5ae755b"
      },
      "execution_count": 71,
      "outputs": [
        {
          "output_type": "display_data",
          "data": {
            "text/plain": [
              "<Figure size 1000x600 with 1 Axes>"
            ],
            "image/png": "[encoded data removed]"
          },
          "metadata": {}
        }
      ]
    },
    {
      "cell_type": "markdown",
      "source": [
        "### Summary:\n",
        "The scatter plot shows that the neural network model's predictions are reasonably close to the actual \"Chance of Admit\" values, but some discrepancies exist, as indicated by the spread of points around the ideal diagonal line.\n",
        "\n",
        "\n",
        "The loss plot over epochs likely indicates how well the model has learned during training. If the validation loss remains close to the training loss and does not significantly increase, the model generalizes well; otherwise, it may overfit."
      ],
      "metadata": {
        "id": "hV27jkml88rp"
      }
    }
  ]
}