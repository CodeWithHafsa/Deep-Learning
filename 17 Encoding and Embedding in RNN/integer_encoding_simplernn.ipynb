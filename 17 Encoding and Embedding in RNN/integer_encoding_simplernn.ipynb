{
  "nbformat": 4,
  "nbformat_minor": 0,
  "metadata": {
    "colab": {
      "provenance": []
    },
    "kernelspec": {
      "name": "python3",
      "display_name": "Python 3"
    },
    "language_info": {
      "name": "python"
    }
  },
  "cells": [
    {
      "cell_type": "code",
      "execution_count": 15,
      "metadata": {
        "id": "M39sezFwmIzn"
      },
      "outputs": [],
      "source": [
        "import numpy as np\n",
        "\n",
        "docs = ['go pakistan',\n",
        "\t\t'pakistan pakistan',\n",
        "\t\t'hip hip hurray',\n",
        "\t\t'jeetega bhai jeetega pakistan jeetega',\n",
        "\t\t'pakistan zindabad',\n",
        "\t\t'inquilab zindabad']"
      ]
    },
    {
      "cell_type": "code",
      "source": [
        "# docs = ['use python',\n",
        "#         'python python',\n",
        "#         'code code success',\n",
        "#         'train model train python train',\n",
        "#         'python coding',\n",
        "#         'deeplearning coding']"
      ],
      "metadata": {
        "id": "Gh8e9zbKoIyD"
      },
      "execution_count": null,
      "outputs": []
    },
    {
      "cell_type": "code",
      "source": [
        "docs"
      ],
      "metadata": {
        "colab": {
          "base_uri": "https://localhost:8080/"
        },
        "id": "OrAEG7VEoMiX",
        "outputId": "5636c07a-fe90-4ee4-c66f-bc0f4f9034f9"
      },
      "execution_count": 17,
      "outputs": [
        {
          "output_type": "execute_result",
          "data": {
            "text/plain": [
              "['go pakistan',\n",
              " 'pakistan pakistan',\n",
              " 'hip hip hurray',\n",
              " 'jeetega bhai jeetega pakistan jeetega',\n",
              " 'pakistan zindabad',\n",
              " 'inquilab zindabad']"
            ]
          },
          "metadata": {},
          "execution_count": 17
        }
      ]
    },
    {
      "cell_type": "code",
      "source": [
        "from tensorflow.keras.preprocessing.text import Tokenizer\n",
        "tokenizer = Tokenizer(oov_token=\"noting\");\n",
        "# oov - object out of vocabulary (means object that is not already availabel in vocabulary )"
      ],
      "metadata": {
        "id": "ocsIIptTmwGl"
      },
      "execution_count": 18,
      "outputs": []
    },
    {
      "cell_type": "code",
      "source": [
        "tokenizer.fit_on_texts(docs)   # use fit on text to create tokens"
      ],
      "metadata": {
        "id": "2xdST8zToFzt"
      },
      "execution_count": 19,
      "outputs": []
    },
    {
      "cell_type": "code",
      "source": [
        "tokenizer.word_index"
      ],
      "metadata": {
        "colab": {
          "base_uri": "https://localhost:8080/"
        },
        "id": "OLOm4ZjWng9K",
        "outputId": "413dd489-6c34-4430-b197-dd04f91e62a2"
      },
      "execution_count": 20,
      "outputs": [
        {
          "output_type": "execute_result",
          "data": {
            "text/plain": [
              "{'noting': 1,\n",
              " 'pakistan': 2,\n",
              " 'jeetega': 3,\n",
              " 'hip': 4,\n",
              " 'zindabad': 5,\n",
              " 'go': 6,\n",
              " 'hurray': 7,\n",
              " 'bhai': 8,\n",
              " 'inquilab': 9}"
            ]
          },
          "metadata": {},
          "execution_count": 20
        }
      ]
    },
    {
      "cell_type": "code",
      "source": [
        "tokenizer.word_counts"
      ],
      "metadata": {
        "colab": {
          "base_uri": "https://localhost:8080/"
        },
        "id": "Iocf061eo1sm",
        "outputId": "ae203a09-e748-464b-e8c8-0d819e5b9d1c"
      },
      "execution_count": 21,
      "outputs": [
        {
          "output_type": "execute_result",
          "data": {
            "text/plain": [
              "OrderedDict([('go', 1),\n",
              "             ('pakistan', 5),\n",
              "             ('hip', 2),\n",
              "             ('hurray', 1),\n",
              "             ('jeetega', 3),\n",
              "             ('bhai', 1),\n",
              "             ('zindabad', 2),\n",
              "             ('inquilab', 1)])"
            ]
          },
          "metadata": {},
          "execution_count": 21
        }
      ]
    },
    {
      "cell_type": "code",
      "source": [
        "tokenizer.document_count #length of line"
      ],
      "metadata": {
        "colab": {
          "base_uri": "https://localhost:8080/"
        },
        "id": "tIR-O64do1Eo",
        "outputId": "f122e571-15e6-4452-acd2-23866f71fa5a"
      },
      "execution_count": 22,
      "outputs": [
        {
          "output_type": "execute_result",
          "data": {
            "text/plain": [
              "6"
            ]
          },
          "metadata": {},
          "execution_count": 22
        }
      ]
    },
    {
      "cell_type": "code",
      "source": [
        "sequences = tokenizer.texts_to_sequences(docs)\n",
        "sequences  #breeak into sequence"
      ],
      "metadata": {
        "colab": {
          "base_uri": "https://localhost:8080/"
        },
        "id": "5Q7DEQDxpMLM",
        "outputId": "18f6b48b-9e6f-4b93-c483-f3b067c1d720"
      },
      "execution_count": 23,
      "outputs": [
        {
          "output_type": "execute_result",
          "data": {
            "text/plain": [
              "[[6, 2], [2, 2], [4, 4, 7], [3, 8, 3, 2, 3], [2, 5], [9, 5]]"
            ]
          },
          "metadata": {},
          "execution_count": 23
        }
      ]
    },
    {
      "cell_type": "code",
      "source": [
        "                              # token number(index number)\n",
        "# docs = ['go pakistan',      # 6,2\n",
        "# \t\t'pakistan pakistan',    # 2, 2\n",
        "# \t\t'hip hip hurray',       # 4, 4, 7\n",
        "# \t\t'jeetega bhai jeetega pakistan jeetega',  # 3, 8, 3, 2, 3\n",
        "# \t\t'pakistan zindabad',    # 2, 5\n",
        "# \t\t'inquilab zindabad']    # 9, 5\n",
        "\n",
        "# This is word indexing means indexing given according to keras library randomly\n",
        "# Not according to normal indexing"
      ],
      "metadata": {
        "id": "AhE-Lht_pmwN"
      },
      "execution_count": null,
      "outputs": []
    },
    {
      "cell_type": "code",
      "source": [
        "# adding padding\n",
        "from keras.utils import pad_sequences"
      ],
      "metadata": {
        "id": "3vDYgRK8pX9v"
      },
      "execution_count": 24,
      "outputs": []
    },
    {
      "cell_type": "code",
      "source": [
        "sequences = pad_sequences(sequences,padding=\"post\")"
      ],
      "metadata": {
        "id": "YR2BpkZ8pdlC"
      },
      "execution_count": 25,
      "outputs": []
    },
    {
      "cell_type": "code",
      "source": [
        "sequences   #vector size equal to every vector"
      ],
      "metadata": {
        "colab": {
          "base_uri": "https://localhost:8080/"
        },
        "id": "qUZUubqRqlha",
        "outputId": "38c8f9b7-aa3e-4a4f-8532-f57a1734c48f"
      },
      "execution_count": 26,
      "outputs": [
        {
          "output_type": "execute_result",
          "data": {
            "text/plain": [
              "array([[6, 2, 0, 0, 0],\n",
              "       [2, 2, 0, 0, 0],\n",
              "       [4, 4, 7, 0, 0],\n",
              "       [3, 8, 3, 2, 3],\n",
              "       [2, 5, 0, 0, 0],\n",
              "       [9, 5, 0, 0, 0]], dtype=int32)"
            ]
          },
          "metadata": {},
          "execution_count": 26
        }
      ]
    },
    {
      "cell_type": "markdown",
      "source": [
        "## IMDB dataset using keras"
      ],
      "metadata": {
        "id": "Xt4b0XpBrOo4"
      }
    },
    {
      "cell_type": "code",
      "source": [],
      "metadata": {
        "id": "Xrx73C8Dq6h9"
      },
      "execution_count": null,
      "outputs": []
    }
  ]
}